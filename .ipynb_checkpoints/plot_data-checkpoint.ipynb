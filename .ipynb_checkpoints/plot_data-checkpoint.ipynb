{
 "cells": [
  {
   "cell_type": "code",
   "execution_count": 1,
   "id": "7175eb8b",
   "metadata": {},
   "outputs": [],
   "source": [
    "import numpy as np\n",
    "import pandas as pd"
   ]
  },
  {
   "cell_type": "code",
   "execution_count": 2,
   "id": "54e0eee0",
   "metadata": {},
   "outputs": [],
   "source": [
    "import matplotlib.pyplot as plt"
   ]
  },
  {
   "cell_type": "code",
   "execution_count": 21,
   "id": "88f2a539",
   "metadata": {},
   "outputs": [],
   "source": [
    "df = pd.read_csv('wind_drag:00005.csv') # Replace 'your_data.csv' with your file path\n",
    "data_t = df['t'].to_numpy()\n",
    "data_x = df['X'].to_numpy()\n",
    "data_x_n = df['X_n'].to_numpy()\n",
    "\n",
    "data_y = df['Y'].to_numpy()\n",
    "data_y_n = df['Y_n'].to_numpy()\n",
    "\n",
    "data_z = df['Z'].to_numpy()\n",
    "data_z_n = df['Z_n'].to_numpy()"
   ]
  },
  {
   "cell_type": "code",
   "execution_count": 19,
   "id": "7cbd4980",
   "metadata": {},
   "outputs": [
    {
     "name": "stderr",
     "output_type": "stream",
     "text": [
      "No artists with labels found to put in legend.  Note that artists whose label start with an underscore are ignored when legend() is called with no argument.\n"
     ]
    }
   ],
   "source": [
    "plt.figure(figsize=(10, 6))\n",
    "\n",
    "# Example: Plotting 'column_x' against 'column_y'\n",
    "plt.plot(data_t, data_x)\n",
    "\n",
    "# Add labels and a title for clarity\n",
    "plt.xlabel('steps')\n",
    "plt.ylabel('wind drag (N))')\n",
    "plt.title('wind drag (X axis)')\n",
    "plt.legend() # Displays the labels defined in plt.plot()\n",
    "plt.savefig(\"wind drag x without noise.jpg\")\n",
    "plt.close()"
   ]
  },
  {
   "cell_type": "code",
   "execution_count": 20,
   "id": "f54eec6a",
   "metadata": {},
   "outputs": [
    {
     "name": "stderr",
     "output_type": "stream",
     "text": [
      "No artists with labels found to put in legend.  Note that artists whose label start with an underscore are ignored when legend() is called with no argument.\n"
     ]
    }
   ],
   "source": [
    "plt.figure(figsize=(10, 6))\n",
    "\n",
    "# Example: Plotting 'column_x' against 'column_y'\n",
    "plt.plot(data_t, data_x)\n",
    "plt.plot(data_t, data_x_n)\n",
    "\n",
    "# Add labels and a title for clarity\n",
    "plt.xlabel('steps')\n",
    "plt.ylabel('wind drag (N))')\n",
    "plt.title('wind drag noise comparison (X axis)')\n",
    "plt.legend() # Displays the labels defined in plt.plot()\n",
    "plt.savefig(\"wind drag x with noise.jpg\")\n",
    "plt.close()"
   ]
  },
  {
   "cell_type": "code",
   "execution_count": 15,
   "id": "3c791ba6",
   "metadata": {},
   "outputs": [],
   "source": []
  },
  {
   "cell_type": "code",
   "execution_count": 22,
   "id": "0bae5bd2",
   "metadata": {},
   "outputs": [
    {
     "name": "stderr",
     "output_type": "stream",
     "text": [
      "No artists with labels found to put in legend.  Note that artists whose label start with an underscore are ignored when legend() is called with no argument.\n",
      "No artists with labels found to put in legend.  Note that artists whose label start with an underscore are ignored when legend() is called with no argument.\n"
     ]
    }
   ],
   "source": [
    "plt.figure(figsize=(10, 6))\n",
    "\n",
    "# Example: Plotting 'column_x' against 'column_y'\n",
    "plt.plot(data_t, data_y)\n",
    "\n",
    "# Add labels and a title for clarity\n",
    "plt.xlabel('steps')\n",
    "plt.ylabel('wind drag (N))')\n",
    "plt.title('wind drag (Y axis)')\n",
    "plt.legend() # Displays the labels defined in plt.plot()\n",
    "plt.savefig(\"wind drag y without noise.jpg\")\n",
    "plt.close()\n",
    "####################################################################\n",
    "plt.figure(figsize=(10, 6))\n",
    "\n",
    "# Example: Plotting 'column_x' against 'column_y'\n",
    "plt.plot(data_t, data_y)\n",
    "plt.plot(data_t, data_y_n)\n",
    "\n",
    "# Add labels and a title for clarity\n",
    "plt.xlabel('steps')\n",
    "plt.ylabel('wind drag (N))')\n",
    "plt.title('wind drag noise comparison (Y axis)')\n",
    "plt.legend() # Displays the labels defined in plt.plot()\n",
    "plt.savefig(\"wind drag y with noise.jpg\")\n",
    "plt.close()"
   ]
  },
  {
   "cell_type": "code",
   "execution_count": null,
   "id": "91286416",
   "metadata": {},
   "outputs": [],
   "source": []
  },
  {
   "cell_type": "code",
   "execution_count": 23,
   "id": "56c3b8fb",
   "metadata": {},
   "outputs": [
    {
     "name": "stderr",
     "output_type": "stream",
     "text": [
      "No artists with labels found to put in legend.  Note that artists whose label start with an underscore are ignored when legend() is called with no argument.\n",
      "No artists with labels found to put in legend.  Note that artists whose label start with an underscore are ignored when legend() is called with no argument.\n"
     ]
    }
   ],
   "source": [
    "plt.figure(figsize=(10, 6))\n",
    "\n",
    "# Example: Plotting 'column_x' against 'column_y'\n",
    "plt.plot(data_t, data_z)\n",
    "\n",
    "# Add labels and a title for clarity\n",
    "plt.xlabel('steps')\n",
    "plt.ylabel('wind drag (N))')\n",
    "plt.title('wind drag (Z axis)')\n",
    "plt.legend() # Displays the labels defined in plt.plot()\n",
    "plt.savefig(\"wind drag z without noise.jpg\")\n",
    "plt.close()\n",
    "####################################################################\n",
    "plt.figure(figsize=(10, 6))\n",
    "\n",
    "# Example: Plotting 'column_x' against 'column_y'\n",
    "plt.plot(data_t, data_z)\n",
    "plt.plot(data_t, data_z_n)\n",
    "\n",
    "# Add labels and a title for clarity\n",
    "plt.xlabel('steps')\n",
    "plt.ylabel('wind drag (N))')\n",
    "plt.title('wind drag noise comparison (Z axis)')\n",
    "plt.legend() # Displays the labels defined in plt.plot()\n",
    "plt.savefig(\"wind drag z with noise.jpg\")\n",
    "plt.close()"
   ]
  },
  {
   "cell_type": "code",
   "execution_count": null,
   "id": "0949fee4",
   "metadata": {},
   "outputs": [],
   "source": []
  }
 ],
 "metadata": {
  "kernelspec": {
   "display_name": "Python 3 (ipykernel)",
   "language": "python",
   "name": "python3"
  },
  "language_info": {
   "codemirror_mode": {
    "name": "ipython",
    "version": 3
   },
   "file_extension": ".py",
   "mimetype": "text/x-python",
   "name": "python",
   "nbconvert_exporter": "python",
   "pygments_lexer": "ipython3",
   "version": "3.10.12"
  }
 },
 "nbformat": 4,
 "nbformat_minor": 5
}
